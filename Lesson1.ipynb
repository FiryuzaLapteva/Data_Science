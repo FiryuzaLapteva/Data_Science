{
 "cells": [
  {
   "cell_type": "markdown",
   "metadata": {},
   "source": [
    "## Задача 1\n"
   ]
  },
  {
   "cell_type": "markdown",
   "metadata": {},
   "source": [
    "## \n",
    "На складе лежат разные фрукты в разном количестве.\n",
    "Нужно написать функцию, которая на вход принимает любое количество названий фруктов и их количество, а возвращает общее количество фруктов на складе\n"
   ]
  },
  {
   "cell_type": "code",
   "execution_count": 7,
   "metadata": {},
   "outputs": [
    {
     "name": "stdout",
     "output_type": "stream",
     "text": [
      "27\n"
     ]
    }
   ],
   "source": [
    "def total_fr(dict):\n",
    "        return sum(dict.values())\n",
    "    \n",
    "\n",
    "print(total_fr({'ba': 1, 'or': 1, 'ap': 25}))"
   ]
  },
  {
   "cell_type": "markdown",
   "metadata": {},
   "source": [
    "## Задача 2"
   ]
  },
  {
   "cell_type": "markdown",
   "metadata": {},
   "source": [
    "#\n",
    "Дан список с затратами на рекламу. Но в данных есть ошибки, некоторые затраты имеют отрицательную величину. Удалите такие значения из списка и посчитайте суммарные затраты\n",
    "[100, 125, -90, 345, 655, -1, 0, 200]\n",
    "Используйте list comprehensions\n"
   ]
  },
  {
   "cell_type": "code",
   "execution_count": 21,
   "metadata": {},
   "outputs": [
    {
     "name": "stdout",
     "output_type": "stream",
     "text": [
      "[100, 125, 0, 345, 655, 0, 0, 200]\n",
      "суммарные затраты на рекламу = 1425\n"
     ]
    }
   ],
   "source": [
    "orig_prices = [100, 125, -90, 345, 655, -1, 0, 200]\n",
    "\n",
    "prices = [i if i > 0 else 0 for i in orig_prices]\n",
    "print(prices)        \n",
    "print(f'суммарные затраты на рекламу = {sum(prices)}')\n"
   ]
  },
  {
   "cell_type": "markdown",
   "metadata": {},
   "source": [
    "# Задача 4.1 и 4.2\n"
   ]
  },
  {
   "cell_type": "markdown",
   "metadata": {},
   "source": [
    "Найдите, какая выручка у компании в ноябре\n",
    "Используйте list comprehensions"
   ]
  },
  {
   "cell_type": "code",
   "execution_count": 1,
   "metadata": {},
   "outputs": [
    {
     "name": "stdout",
     "output_type": "stream",
     "text": [
      "Преобразованный список data с извлеченными месяцами [9, 12, 9, 12, 10, 9, 12, 11, 12, 11, 10, 12, 11, 11, 9, 10, 12, 9, 12, 11, 11, 12, 12, 10, 10, 9, 11, 12, 10, 12]\n",
      "\n",
      "Выручка компании по каждому месяцу {9: 25647, 12: 45452, 10: 28645, 11: 25098}\n"
     ]
    }
   ],
   "source": [
    "data = ['2021-09-14', '2021-12-15', '2021-09-08', '2021-12-05', '2021-10-09',\n",
    "         '2021-09-30', '2021-12-22', '2021-11-29', '2021-12-24', '2021-11-26', \n",
    "         '2021-10-27', '2021-12-18', '2021-11-09', '2021-11-23', '2021-09-27', \n",
    "         '2021-10-02', '2021-12-27', '2021-09-20', '2021-12-13', '2021-11-01',\n",
    "          '2021-11-09', '2021-12-06', '2021-12-08', '2021-10-09', '2021-10-31',\n",
    "           '2021-09-30', '2021-11-09', '2021-12-13', '2021-10-26', '2021-12-09']\n",
    "price = [1270, 8413, 9028, 3703, 5739, 4095, 295, 4944, 5723, 3701, 4471, 651, \n",
    "        7037, 4274, 6275, 4988, 6930, 2971, 6592, 2004, 2822, 519, 3406, 2732,\n",
    "         5015, 2008, 316, 6333, 5700, 2887]\n",
    "\n",
    "import datetime\n",
    "# Получить список месяцов\n",
    "my_list = []\n",
    "for i in data:\n",
    "    i = datetime.datetime.strptime (i, \"%Y-%m-%d\").month\n",
    "    my_list.append(i)\n",
    "print (f'Преобразованный список data с извлеченными месяцами {my_list}\\n')\n",
    "\n",
    "\n",
    "new_dictionary = {}\n",
    "def sum_prices(list1:list, list2:list)->dict:\n",
    "    for key, value in zip(my_list, price):\n",
    "        if key in new_dictionary:\n",
    "            new_dictionary[key] += value\n",
    "        else:\n",
    "            new_dictionary[key] = value\n",
    "    return new_dictionary\n",
    "\n",
    "print(f'Выручка компании по каждому месяцу {sum_prices(my_list, price)}')\n",
    "\n"
   ]
  },
  {
   "cell_type": "code",
   "execution_count": 20,
   "metadata": {},
   "outputs": [
    {
     "name": "stdout",
     "output_type": "stream",
     "text": [
      "Значения индексов элемента 11 (ноябрь) в списке my_list[7, 9, 12, 13, 19, 20, 26]\n",
      "Выручка компании за ноябрь: 25098\n"
     ]
    }
   ],
   "source": [
    "indexes = [i for i, ltr in enumerate(my_list) if ltr == 11]\n",
    "print(f'Значения индексов элемента 11 (ноябрь) в списке my_list{indexes}') \n",
    "\n",
    "price2= sum([price[x] for x in indexes])         \n",
    "print(f'Выручка компании за ноябрь: {price2}')\n",
    "\n",
    "\n"
   ]
  },
  {
   "cell_type": "code",
   "execution_count": 1,
   "metadata": {},
   "outputs": [
    {
     "ename": "ModuleNotFoundError",
     "evalue": "No module named 'pandas'",
     "output_type": "error",
     "traceback": [
      "\u001b[1;31m---------------------------------------------------------------------------\u001b[0m",
      "\u001b[1;31mModuleNotFoundError\u001b[0m                       Traceback (most recent call last)",
      "Cell \u001b[1;32mIn[1], line 1\u001b[0m\n\u001b[1;32m----> 1\u001b[0m \u001b[38;5;28;01mimport\u001b[39;00m \u001b[38;5;21;01mpandas\u001b[39;00m \u001b[38;5;28;01mas\u001b[39;00m \u001b[38;5;21;01mpd\u001b[39;00m\n",
      "\u001b[1;31mModuleNotFoundError\u001b[0m: No module named 'pandas'"
     ]
    }
   ],
   "source": [
    "import pandas as pd"
   ]
  }
 ],
 "metadata": {
  "kernelspec": {
   "display_name": "Python 3.8.10 64-bit",
   "language": "python",
   "name": "python3"
  },
  "language_info": {
   "codemirror_mode": {
    "name": "ipython",
    "version": 3
   },
   "file_extension": ".py",
   "mimetype": "text/x-python",
   "name": "python",
   "nbconvert_exporter": "python",
   "pygments_lexer": "ipython3",
   "version": "3.8.10"
  },
  "orig_nbformat": 4,
  "vscode": {
   "interpreter": {
    "hash": "f68c6dcfa33f75cc743a690a52dda8eb309b8adfbebd438dbf89e55ff4a7ae37"
   }
  }
 },
 "nbformat": 4,
 "nbformat_minor": 2
}
